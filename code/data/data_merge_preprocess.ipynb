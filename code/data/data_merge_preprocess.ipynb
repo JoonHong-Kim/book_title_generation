{
 "cells": [
  {
   "cell_type": "code",
   "execution_count": 1,
   "metadata": {},
   "outputs": [],
   "source": [
    "import os\n",
    "import pandas as pd\n",
    "from tqdm import tqdm\n",
    "import re"
   ]
  },
  {
   "cell_type": "code",
   "execution_count": 2,
   "metadata": {},
   "outputs": [],
   "source": [
    "data_path='/opt/ml/book/data'"
   ]
  },
  {
   "cell_type": "code",
   "execution_count": 3,
   "metadata": {},
   "outputs": [
    {
     "name": "stderr",
     "output_type": "stream",
     "text": [
      " 93%|█████████▎| 14/15 [00:53<00:04,  4.13s/it]b'Skipping line 783401: expected 11 fields, saw 16\\nSkipping line 2002736: expected 11 fields, saw 16\\n'\n",
      "100%|██████████| 15/15 [01:19<00:00,  5.30s/it]\n"
     ]
    },
    {
     "data": {
      "text/plain": [
       "4256189"
      ]
     },
     "execution_count": 3,
     "metadata": {},
     "output_type": "execute_result"
    }
   ],
   "source": [
    "concat_data=pd.DataFrame()\n",
    "# open all csv files in data_path\n",
    "for data in tqdm(os.listdir(data_path)):\n",
    "    if data.endswith('.csv'):\n",
    "        df = pd.read_csv(os.path.join(data_path, data),low_memory=False,error_bad_lines=False)\n",
    "        # we only need the title and the description\n",
    "        df=df[['title','description']]\n",
    "        # drop na values\n",
    "        df.dropna(inplace=True)\n",
    "        concat_data=concat_data.append(df)\n",
    "len(concat_data)\n",
    "        "
   ]
  },
  {
   "cell_type": "code",
   "execution_count": 4,
   "metadata": {},
   "outputs": [
    {
     "name": "stderr",
     "output_type": "stream",
     "text": [
      "100%|██████████| 4256189/4256189 [01:30<00:00, 46785.47it/s]\n"
     ]
    }
   ],
   "source": [
    "concat_data.reset_index(inplace=True)\n",
    "hangeul_list=[]\n",
    "\n",
    "# remove all non-hangeul titles\n",
    "for index in tqdm(concat_data.index):\n",
    "    title=concat_data.loc[index,'title']\n",
    "    hangeul=re.findall(f'[가-힣]',title)\n",
    "    if hangeul:\n",
    "        hangeul_list.append(index)\n",
    "only_hangeul=concat_data.loc[hangeul_list]"
   ]
  },
  {
   "cell_type": "code",
   "execution_count": 5,
   "metadata": {},
   "outputs": [],
   "source": [
    "only_hangeul=only_hangeul[['title','description']]"
   ]
  },
  {
   "cell_type": "code",
   "execution_count": 6,
   "metadata": {},
   "outputs": [
    {
     "data": {
      "text/plain": [
       "3565121"
      ]
     },
     "execution_count": 6,
     "metadata": {},
     "output_type": "execute_result"
    }
   ],
   "source": [
    "len(only_hangeul)"
   ]
  },
  {
   "cell_type": "code",
   "execution_count": 7,
   "metadata": {},
   "outputs": [
    {
     "data": {
      "text/plain": [
       "1256761"
      ]
     },
     "execution_count": 7,
     "metadata": {},
     "output_type": "execute_result"
    }
   ],
   "source": [
    "# drop title duplicates \n",
    "only_hangeul.drop_duplicates(subset=['title'],inplace=True)\n",
    "len(only_hangeul)"
   ]
  },
  {
   "cell_type": "code",
   "execution_count": 8,
   "metadata": {},
   "outputs": [
    {
     "data": {
      "text/plain": [
       "996513"
      ]
     },
     "execution_count": 8,
     "metadata": {},
     "output_type": "execute_result"
    }
   ],
   "source": [
    "# drop description duplicates -> 시리즈 같은 것들 제거\n",
    "only_hangeul.drop_duplicates(subset=['description'],inplace=True)\n",
    "len(only_hangeul)"
   ]
  },
  {
   "cell_type": "code",
   "execution_count": 9,
   "metadata": {},
   "outputs": [
    {
     "data": {
      "text/html": [
       "<div>\n",
       "<style scoped>\n",
       "    .dataframe tbody tr th:only-of-type {\n",
       "        vertical-align: middle;\n",
       "    }\n",
       "\n",
       "    .dataframe tbody tr th {\n",
       "        vertical-align: top;\n",
       "    }\n",
       "\n",
       "    .dataframe thead th {\n",
       "        text-align: right;\n",
       "    }\n",
       "</style>\n",
       "<table border=\"1\" class=\"dataframe\">\n",
       "  <thead>\n",
       "    <tr style=\"text-align: right;\">\n",
       "      <th></th>\n",
       "      <th>title</th>\n",
       "      <th>description</th>\n",
       "    </tr>\n",
       "  </thead>\n",
       "  <tbody>\n",
       "    <tr>\n",
       "      <th>0</th>\n",
       "      <td>팔꿈치를 주세요</td>\n",
       "      <td>‘큐큐퀴어단편선’의 네 번째 책으로 한국문학의 틀에서 벗어나 자신만의 소설적 세계를...</td>\n",
       "    </tr>\n",
       "    <tr>\n",
       "      <th>1</th>\n",
       "      <td>너처럼 예쁜 동시, 나태주 동시 따라 쓰기</td>\n",
       "      <td>풀꽃 시인이 어린이들에게 전하는 다정한 동시들!차분차분 시를 읽고 따라 쓰다 보면 ...</td>\n",
       "    </tr>\n",
       "    <tr>\n",
       "      <th>2</th>\n",
       "      <td>곤고한 날에는 생각하라 - 한 신학자의 인문 고전 읽기</td>\n",
       "      <td>“성서와 인문 고전을 씨줄과 날줄 삼아 직조해 온 치열한 사유와 실천의 기록!”김진...</td>\n",
       "    </tr>\n",
       "    <tr>\n",
       "      <th>3</th>\n",
       "      <td>텐동의 사연과 나폴리탄의 비밀</td>\n",
       "      <td>일본인 친구가 한국어로 쓴 음식여행 안내서.  두 번째 이야기. 우리가 좋아하는 일...</td>\n",
       "    </tr>\n",
       "    <tr>\n",
       "      <th>4</th>\n",
       "      <td>구름할머니의 콧구멍</td>\n",
       "      <td>구름이는 낮잠 주무시는 할머니 콧구멍 속을 들락날락 숨바꼭질하는 걸 제일 좋아한다....</td>\n",
       "    </tr>\n",
       "    <tr>\n",
       "      <th>...</th>\n",
       "      <td>...</td>\n",
       "      <td>...</td>\n",
       "    </tr>\n",
       "    <tr>\n",
       "      <th>996508</th>\n",
       "      <td>과학기술 영작문의 기본</td>\n",
       "      <td>이 책은 종래의 이공계 영어작문서들과는 달리 틀리기 쉬운 단어나 문장을 쓰는 방법,...</td>\n",
       "    </tr>\n",
       "    <tr>\n",
       "      <th>996509</th>\n",
       "      <td>(향가와 옛 한지의 으늑함)옛빛찾기=(The)search for the archai...</td>\n",
       "      <td>1956년 출생해 원광대 서예과 교수를 지내고 있는 저 자의 작품집. 붓글씨, 동양...</td>\n",
       "    </tr>\n",
       "    <tr>\n",
       "      <th>996510</th>\n",
       "      <td>통일신라 토지제도 연구</td>\n",
       "      <td>통일신라시대 토지제도에 대해 고찰한 연구서. 골품귀족과 국가기관에 대한 토지분급제의...</td>\n",
       "    </tr>\n",
       "    <tr>\n",
       "      <th>996511</th>\n",
       "      <td>민법요해 2 - 債權 親族 相續法, 제2판</td>\n",
       "      <td>- 세부 독자대상 : 사법시험 준비생- 특징 : 사법시험 1차와 2차를 동시에 대비...</td>\n",
       "    </tr>\n",
       "    <tr>\n",
       "      <th>996512</th>\n",
       "      <td>평서문의 문말형식에 관한 일한대조연구</td>\n",
       "      <td>한국어와 일본어의 문말 형식에 관해 분석한 책이다. 종래의 연구가 그렇듯이 일본어의...</td>\n",
       "    </tr>\n",
       "  </tbody>\n",
       "</table>\n",
       "<p>996513 rows × 2 columns</p>\n",
       "</div>"
      ],
      "text/plain": [
       "                                                    title  \\\n",
       "0                                                팔꿈치를 주세요   \n",
       "1                                 너처럼 예쁜 동시, 나태주 동시 따라 쓰기   \n",
       "2                          곤고한 날에는 생각하라 - 한 신학자의 인문 고전 읽기   \n",
       "3                                        텐동의 사연과 나폴리탄의 비밀   \n",
       "4                                              구름할머니의 콧구멍   \n",
       "...                                                   ...   \n",
       "996508                                      과학기술 영작문의 기본    \n",
       "996509  (향가와 옛 한지의 으늑함)옛빛찾기=(The)search for the archai...   \n",
       "996510                                       통일신라 토지제도 연구   \n",
       "996511                            민법요해 2 - 債權 親族 相續法, 제2판   \n",
       "996512                               평서문의 문말형식에 관한 일한대조연구   \n",
       "\n",
       "                                              description  \n",
       "0       ‘큐큐퀴어단편선’의 네 번째 책으로 한국문학의 틀에서 벗어나 자신만의 소설적 세계를...  \n",
       "1       풀꽃 시인이 어린이들에게 전하는 다정한 동시들!차분차분 시를 읽고 따라 쓰다 보면 ...  \n",
       "2       “성서와 인문 고전을 씨줄과 날줄 삼아 직조해 온 치열한 사유와 실천의 기록!”김진...  \n",
       "3       일본인 친구가 한국어로 쓴 음식여행 안내서.  두 번째 이야기. 우리가 좋아하는 일...  \n",
       "4       구름이는 낮잠 주무시는 할머니 콧구멍 속을 들락날락 숨바꼭질하는 걸 제일 좋아한다....  \n",
       "...                                                   ...  \n",
       "996508  이 책은 종래의 이공계 영어작문서들과는 달리 틀리기 쉬운 단어나 문장을 쓰는 방법,...  \n",
       "996509  1956년 출생해 원광대 서예과 교수를 지내고 있는 저 자의 작품집. 붓글씨, 동양...  \n",
       "996510  통일신라시대 토지제도에 대해 고찰한 연구서. 골품귀족과 국가기관에 대한 토지분급제의...  \n",
       "996511  - 세부 독자대상 : 사법시험 준비생- 특징 : 사법시험 1차와 2차를 동시에 대비...  \n",
       "996512  한국어와 일본어의 문말 형식에 관해 분석한 책이다. 종래의 연구가 그렇듯이 일본어의...  \n",
       "\n",
       "[996513 rows x 2 columns]"
      ]
     },
     "execution_count": 9,
     "metadata": {},
     "output_type": "execute_result"
    }
   ],
   "source": [
    "# reset index\n",
    "only_hangeul.reset_index(inplace=True,drop=True)\n",
    "only_hangeul"
   ]
  },
  {
   "cell_type": "code",
   "execution_count": 10,
   "metadata": {},
   "outputs": [],
   "source": [
    "#전처리 과정\n",
    "\n",
    "#이상한 문자들 제거\n",
    "only_hangeul['description']=only_hangeul['description'].str.replace(pat='&#x0D;',repl='')\n",
    "only_hangeul['description']=only_hangeul['description'].str.replace(pat='&lt;',repl='')\n",
    "only_hangeul['description']=only_hangeul['description'].str.replace(pat='&gt;',repl='')\n",
    "\n",
    "# 필요 없는 특수문자 제거\n",
    "only_hangeul['description']=only_hangeul['description'].str.replace(pat=r'[「」『』《》&#*+@$%^%;▶★♥◆]',repl=r'',regex=True)\n",
    "\n",
    "# 이상한 따옴표 변환\n",
    "only_hangeul['description']=only_hangeul['description'].str.replace(pat=r'[“”]',repl=r'\"',regex=True)\n",
    "only_hangeul['description']=only_hangeul['description'].str.replace(pat=r'[‘’]',repl=r\"'\",regex=True)\n",
    "\n",
    "# 앞에 붙은 [] 문자 제가\n",
    "only_hangeul['description']=only_hangeul['description'].str.replace(pat=r'\\[머라말\\]',repl=r\"\",regex=True)\n",
    "only_hangeul['description']=only_hangeul['description'].str.replace(pat=r'\\[서문\\]',repl=r\"\",regex=True)\n",
    "only_hangeul['description']=only_hangeul['description'].str.replace(pat=r'\\[표지글\\]',repl=r\"\",regex=True)\n",
    "only_hangeul['description']=only_hangeul['description'].str.replace(pat=r'\\[표지글 중에서\\]',repl=r\"\",regex=True)\n",
    "\n",
    "# 중앙 점 ,로 변경\n",
    "only_hangeul['description']=only_hangeul['description'].str.replace(pat=r'ㆍ',repl=r\",\",regex=True)"
   ]
  },
  {
   "cell_type": "code",
   "execution_count": 11,
   "metadata": {},
   "outputs": [
    {
     "data": {
      "text/html": [
       "<div>\n",
       "<style scoped>\n",
       "    .dataframe tbody tr th:only-of-type {\n",
       "        vertical-align: middle;\n",
       "    }\n",
       "\n",
       "    .dataframe tbody tr th {\n",
       "        vertical-align: top;\n",
       "    }\n",
       "\n",
       "    .dataframe thead th {\n",
       "        text-align: right;\n",
       "    }\n",
       "</style>\n",
       "<table border=\"1\" class=\"dataframe\">\n",
       "  <thead>\n",
       "    <tr style=\"text-align: right;\">\n",
       "      <th></th>\n",
       "      <th>title</th>\n",
       "      <th>description</th>\n",
       "    </tr>\n",
       "  </thead>\n",
       "  <tbody>\n",
       "    <tr>\n",
       "      <th>0</th>\n",
       "      <td>팔꿈치를 주세요</td>\n",
       "      <td>'큐큐퀴어단편선'의 네 번째 책으로 한국문학의 틀에서 벗어나 자신만의 소설적 세계를...</td>\n",
       "    </tr>\n",
       "    <tr>\n",
       "      <th>1</th>\n",
       "      <td>너처럼 예쁜 동시, 나태주 동시 따라 쓰기</td>\n",
       "      <td>풀꽃 시인이 어린이들에게 전하는 다정한 동시들!차분차분 시를 읽고 따라 쓰다 보면 ...</td>\n",
       "    </tr>\n",
       "    <tr>\n",
       "      <th>2</th>\n",
       "      <td>곤고한 날에는 생각하라 - 한 신학자의 인문 고전 읽기</td>\n",
       "      <td>\"성서와 인문 고전을 씨줄과 날줄 삼아 직조해 온 치열한 사유와 실천의 기록!\"김진...</td>\n",
       "    </tr>\n",
       "    <tr>\n",
       "      <th>3</th>\n",
       "      <td>텐동의 사연과 나폴리탄의 비밀</td>\n",
       "      <td>일본인 친구가 한국어로 쓴 음식여행 안내서.  두 번째 이야기. 우리가 좋아하는 일...</td>\n",
       "    </tr>\n",
       "    <tr>\n",
       "      <th>4</th>\n",
       "      <td>구름할머니의 콧구멍</td>\n",
       "      <td>구름이는 낮잠 주무시는 할머니 콧구멍 속을 들락날락 숨바꼭질하는 걸 제일 좋아한다....</td>\n",
       "    </tr>\n",
       "  </tbody>\n",
       "</table>\n",
       "</div>"
      ],
      "text/plain": [
       "                            title  \\\n",
       "0                        팔꿈치를 주세요   \n",
       "1         너처럼 예쁜 동시, 나태주 동시 따라 쓰기   \n",
       "2  곤고한 날에는 생각하라 - 한 신학자의 인문 고전 읽기   \n",
       "3                텐동의 사연과 나폴리탄의 비밀   \n",
       "4                      구름할머니의 콧구멍   \n",
       "\n",
       "                                         description  \n",
       "0  '큐큐퀴어단편선'의 네 번째 책으로 한국문학의 틀에서 벗어나 자신만의 소설적 세계를...  \n",
       "1  풀꽃 시인이 어린이들에게 전하는 다정한 동시들!차분차분 시를 읽고 따라 쓰다 보면 ...  \n",
       "2  \"성서와 인문 고전을 씨줄과 날줄 삼아 직조해 온 치열한 사유와 실천의 기록!\"김진...  \n",
       "3  일본인 친구가 한국어로 쓴 음식여행 안내서.  두 번째 이야기. 우리가 좋아하는 일...  \n",
       "4  구름이는 낮잠 주무시는 할머니 콧구멍 속을 들락날락 숨바꼭질하는 걸 제일 좋아한다....  "
      ]
     },
     "execution_count": 11,
     "metadata": {},
     "output_type": "execute_result"
    }
   ],
   "source": [
    "only_hangeul.head()"
   ]
  },
  {
   "cell_type": "code",
   "execution_count": 12,
   "metadata": {},
   "outputs": [],
   "source": [
    "# save dataframe\n",
    "only_hangeul.to_csv(os.path.join(data_path,'all_data.csv'),index=False,encoding='utf-8')"
   ]
  },
  {
   "cell_type": "code",
   "execution_count": 13,
   "metadata": {},
   "outputs": [
    {
     "data": {
      "text/html": [
       "<div>\n",
       "<style scoped>\n",
       "    .dataframe tbody tr th:only-of-type {\n",
       "        vertical-align: middle;\n",
       "    }\n",
       "\n",
       "    .dataframe tbody tr th {\n",
       "        vertical-align: top;\n",
       "    }\n",
       "\n",
       "    .dataframe thead th {\n",
       "        text-align: right;\n",
       "    }\n",
       "</style>\n",
       "<table border=\"1\" class=\"dataframe\">\n",
       "  <thead>\n",
       "    <tr style=\"text-align: right;\">\n",
       "      <th></th>\n",
       "      <th>title</th>\n",
       "      <th>description</th>\n",
       "    </tr>\n",
       "  </thead>\n",
       "  <tbody>\n",
       "    <tr>\n",
       "      <th>0</th>\n",
       "      <td>팔꿈치를 주세요</td>\n",
       "      <td>'큐큐퀴어단편선'의 네 번째 책으로 한국문학의 틀에서 벗어나 자신만의 소설적 세계를...</td>\n",
       "    </tr>\n",
       "    <tr>\n",
       "      <th>1</th>\n",
       "      <td>너처럼 예쁜 동시, 나태주 동시 따라 쓰기</td>\n",
       "      <td>풀꽃 시인이 어린이들에게 전하는 다정한 동시들!차분차분 시를 읽고 따라 쓰다 보면 ...</td>\n",
       "    </tr>\n",
       "    <tr>\n",
       "      <th>2</th>\n",
       "      <td>곤고한 날에는 생각하라 - 한 신학자의 인문 고전 읽기</td>\n",
       "      <td>\"성서와 인문 고전을 씨줄과 날줄 삼아 직조해 온 치열한 사유와 실천의 기록!\"김진...</td>\n",
       "    </tr>\n",
       "    <tr>\n",
       "      <th>3</th>\n",
       "      <td>텐동의 사연과 나폴리탄의 비밀</td>\n",
       "      <td>일본인 친구가 한국어로 쓴 음식여행 안내서.  두 번째 이야기. 우리가 좋아하는 일...</td>\n",
       "    </tr>\n",
       "    <tr>\n",
       "      <th>4</th>\n",
       "      <td>구름할머니의 콧구멍</td>\n",
       "      <td>구름이는 낮잠 주무시는 할머니 콧구멍 속을 들락날락 숨바꼭질하는 걸 제일 좋아한다....</td>\n",
       "    </tr>\n",
       "  </tbody>\n",
       "</table>\n",
       "</div>"
      ],
      "text/plain": [
       "                            title  \\\n",
       "0                        팔꿈치를 주세요   \n",
       "1         너처럼 예쁜 동시, 나태주 동시 따라 쓰기   \n",
       "2  곤고한 날에는 생각하라 - 한 신학자의 인문 고전 읽기   \n",
       "3                텐동의 사연과 나폴리탄의 비밀   \n",
       "4                      구름할머니의 콧구멍   \n",
       "\n",
       "                                         description  \n",
       "0  '큐큐퀴어단편선'의 네 번째 책으로 한국문학의 틀에서 벗어나 자신만의 소설적 세계를...  \n",
       "1  풀꽃 시인이 어린이들에게 전하는 다정한 동시들!차분차분 시를 읽고 따라 쓰다 보면 ...  \n",
       "2  \"성서와 인문 고전을 씨줄과 날줄 삼아 직조해 온 치열한 사유와 실천의 기록!\"김진...  \n",
       "3  일본인 친구가 한국어로 쓴 음식여행 안내서.  두 번째 이야기. 우리가 좋아하는 일...  \n",
       "4  구름이는 낮잠 주무시는 할머니 콧구멍 속을 들락날락 숨바꼭질하는 걸 제일 좋아한다....  "
      ]
     },
     "execution_count": 13,
     "metadata": {},
     "output_type": "execute_result"
    }
   ],
   "source": [
    "# 잘 저장됐는지 확인\n",
    "a=pd.read_csv('/opt/ml/book/data/all_data.csv')\n",
    "a.head()"
   ]
  },
  {
   "cell_type": "code",
   "execution_count": null,
   "metadata": {},
   "outputs": [],
   "source": []
  }
 ],
 "metadata": {
  "interpreter": {
   "hash": "d4d1e4263499bec80672ea0156c357c1ee493ec2b1c70f0acce89fc37c4a6abe"
  },
  "kernelspec": {
   "display_name": "Python 3.8.12 64-bit ('base': conda)",
   "language": "python",
   "name": "python3"
  },
  "language_info": {
   "codemirror_mode": {
    "name": "ipython",
    "version": 3
   },
   "file_extension": ".py",
   "mimetype": "text/x-python",
   "name": "python",
   "nbconvert_exporter": "python",
   "pygments_lexer": "ipython3",
   "version": "3.8.12"
  },
  "orig_nbformat": 4
 },
 "nbformat": 4,
 "nbformat_minor": 2
}
